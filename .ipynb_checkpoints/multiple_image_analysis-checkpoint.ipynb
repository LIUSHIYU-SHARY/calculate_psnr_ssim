{
 "cells": [
  {
   "cell_type": "code",
   "execution_count": null,
   "id": "a2bbcc49",
   "metadata": {},
   "outputs": [],
   "source": [
    "import os\n",
    "import cv2\n",
    "import numpy as np\n",
    "import _utils_calculate_psnr_ssim as util\n",
    "\n",
    "def average_metrics(folder1, folder2):\n",
    "    filenames1 = {os.path.basename(f) for f in os.listdir(folder1) if f.endswith('.jpg')}\n",
    "    filenames2 = {os.path.basename(f) for f in os.listdir(folder2) if f.endswith('.jpg')}\n",
    "    \n",
    "    common_filenames = filenames1.intersection(filenames2)\n",
    "    total_psnr, total_ssim, total_lpips, total_dice, total_pearson = 0, 0, 0, 0, 0\n",
    "    count = 0\n",
    "    \n",
    "    for filename in common_filenames:\n",
    "        img1_path = os.path.join(folder1, filename)\n",
    "        img2_path = os.path.join(folder2, filename)\n",
    "        \n",
    "        img1 = cv2.imread(img1_path)\n",
    "        img2 = cv2.imread(img2_path)\n",
    "        \n",
    "        if img1 is not None and img2 is not None:\n",
    "            crop_border = 0\n",
    "            psnr = util.calculate_psnr(img1, img2, crop_border, test_y_channel=True)\n",
    "            ssim = util.calculate_ssim(img1, img2, crop_border, test_y_channel=True)\n",
    "            lpips = util.calculate_lpips(img1, img2)\n",
    "            dice = util.dice_coefficient(img1, img2)\n",
    "            pearson = util.pearson_correlation(img1, img2)\n",
    "            \n",
    "            total_psnr += psnr\n",
    "            total_ssim += ssim\n",
    "            total_lpips += lpips\n",
    "            total_dice += dice\n",
    "            total_pearson += pearson\n",
    "            count += 1\n",
    "    \n",
    "    if count > 0:\n",
    "        avg_psnr = total_psnr / count\n",
    "        avg_ssim = total_ssim / count\n",
    "        avg_lpips = total_lpips / count\n",
    "        avg_dice = total_dice / count\n",
    "        avg_pearson = total_pearson / count\n",
    "        \n",
    "        print(f'Average PSNR: {avg_psnr:.6f} dB')\n",
    "        print(f'Average SSIM: {avg_ssim:.6f}')\n",
    "        print(f'Average LPIPS: {avg_lpips:.6f}')\n",
    "        print(f'Average Dice: {avg_dice:.6f}')\n",
    "        print(f'Average Pearson Correlation: {avg_pearson:.6f}')\n",
    "    else:\n",
    "        print(\"No matching files found in both folders.\")\n",
    "\n",
    "# Example usage\n",
    "folder1 = '../dataset/b'\n",
    "folder2 = '../dataset/result'\n",
    "average_metrics(folder1, folder2)"
   ]
  }
 ],
 "metadata": {
  "kernelspec": {
   "display_name": "Python 3 (ipykernel)",
   "language": "python",
   "name": "python3"
  },
  "language_info": {
   "codemirror_mode": {
    "name": "ipython",
    "version": 3
   },
   "file_extension": ".py",
   "mimetype": "text/x-python",
   "name": "python",
   "nbconvert_exporter": "python",
   "pygments_lexer": "ipython3",
   "version": "3.7.16"
  }
 },
 "nbformat": 4,
 "nbformat_minor": 5
}
